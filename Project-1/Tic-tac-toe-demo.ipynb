{
 "cells": [
  {
   "cell_type": "markdown",
   "id": "9e5aa389-90fa-4c66-93a7-38dab2932450",
   "metadata": {},
   "source": [
    "# TIC-TAC-TOE Demo\n",
    "\n",
    "\n",
    "# Welcome to Tic-tac-toe! \n",
    "\n",
    "**Rules are simple:** \n",
    "\n",
    "    1. choose a space within the 3x3 chart\n",
    "    2. place your X or O in the box\n",
    "    3. get three in a row to win\n",
    "    \n",
    "    note:\n",
    "    \n",
    "    first question for choosing row: \n",
    "    0 is the top row\n",
    "    1 is middle\n",
    "    2 is bottom row\n",
    "    \n",
    "    second question for choosing column:\n",
    "    0 is left column \n",
    "    1 is middle column \n",
    "    2 is right column "
   ]
  },
  {
   "cell_type": "code",
   "execution_count": null,
   "id": "09fd0821-0ae3-4a6d-93e5-d0ef00b7c83a",
   "metadata": {},
   "outputs": [
    {
     "name": "stdout",
     "output_type": "stream",
     "text": [
      " | | \n",
      "-----\n",
      " | | \n",
      "-----\n",
      " | | \n",
      "-----\n"
     ]
    }
   ],
   "source": [
    "def create_board():\n",
    "    return [[\" \" for _ in range(3)] for _ in range(3)]\n",
    "\n",
    "def print_board(board):\n",
    "    for row in board:\n",
    "        print(\"|\".join(row))\n",
    "        if board.index(row) < 2:        \n",
    "            print(\"-\" * 5)\n",
    "            \n",
    "def update_board(board, row, col, player):\n",
    "    if board[row][col] == \" \":\n",
    "        board[row][col] = player  \n",
    "        return True\n",
    "    else:\n",
    "        print(\"Invalid move. Try again.\")        \n",
    "        return False\n",
    "    \n",
    "def get_input(player):\n",
    "    row = int(input(f\"Player {player}, enter row (0-2): \"))   \n",
    "    col = int(input(f\"Player {player}, enter column (0-2): \"))\n",
    "    return row, col\n",
    "\n",
    "def main():\n",
    "    board = create_board()\n",
    "    print_board(board)\n",
    "    \n",
    "    player_turn = \"X\"\n",
    "    while True: \n",
    "        row, col = get_input(player_turn)      \n",
    "        if update_board(board, row, col, player_turn):          \n",
    "            print_board(board)           \n",
    "            player_turn = \"O\" if player_turn == \"X\" else \"X\"\n",
    "            \n",
    "if __name__ == \"__main__\":\n",
    "    main()"
   ]
  },
  {
   "cell_type": "code",
   "execution_count": null,
   "id": "57ed6a2e-38b4-4067-86f6-9825686ff1f1",
   "metadata": {},
   "outputs": [],
   "source": []
  }
 ],
 "metadata": {
  "kernelspec": {
   "display_name": "Python 3 [Default]",
   "language": "python",
   "name": "python3"
  },
  "language_info": {
   "codemirror_mode": {
    "name": "ipython",
    "version": 3
   },
   "file_extension": ".py",
   "mimetype": "text/x-python",
   "name": "python",
   "nbconvert_exporter": "python",
   "pygments_lexer": "ipython3",
   "version": "3.9.10"
  }
 },
 "nbformat": 4,
 "nbformat_minor": 5
}
