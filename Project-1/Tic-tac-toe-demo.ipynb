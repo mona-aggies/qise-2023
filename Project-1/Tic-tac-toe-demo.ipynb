{
 "cells": [
  {
   "cell_type": "markdown",
   "id": "9e5aa389-90fa-4c66-93a7-38dab2932450",
   "metadata": {},
   "source": [
    "# TIC-TAC-TOE Demo\n",
    "\n",
    "\n",
    "# *Welcome to Tic-tac-toe!* \n",
    "\n",
    "**Rules are simple:** \n",
    "\n",
    "    1. choose a space within the 3x3 chart\n",
    "    2. place your X or O in the box\n",
    "    3. get three in a row to win\n",
    "    \n",
    "    note:\n",
    "    \n",
    "    first question for choosing row: \n",
    "    0 is the top row\n",
    "    1 is middle\n",
    "    2 is bottom row\n",
    "    \n",
    "    second question for choosing column:\n",
    "    0 is left column \n",
    "    1 is middle column \n",
    "    2 is right column "
   ]
  },
  {
   "cell_type": "code",
   "execution_count": 16,
   "id": "09fd0821-0ae3-4a6d-93e5-d0ef00b7c83a",
   "metadata": {},
   "outputs": [
    {
     "name": "stdout",
     "output_type": "stream",
     "text": [
      " | | \n",
      "-----\n",
      " | | \n",
      "-----\n",
      " | | \n",
      "-----\n"
     ]
    },
    {
     "name": "stdin",
     "output_type": "stream",
     "text": [
      "Player X, enter row (0-2):  0\n",
      "Player X, enter column (0-2):  2\n"
     ]
    },
    {
     "name": "stdout",
     "output_type": "stream",
     "text": [
      " | |X\n",
      "-----\n",
      " | | \n",
      "-----\n",
      " | | \n",
      "-----\n"
     ]
    },
    {
     "name": "stdin",
     "output_type": "stream",
     "text": [
      "Player O, enter row (0-2):  1\n",
      "Player O, enter column (0-2):  1\n"
     ]
    },
    {
     "name": "stdout",
     "output_type": "stream",
     "text": [
      " | |X\n",
      "-----\n",
      " |O| \n",
      "-----\n",
      " | | \n"
     ]
    },
    {
     "name": "stdin",
     "output_type": "stream",
     "text": [
      "Player X, enter row (0-2):  1\n",
      "Player X, enter column (0-2):  0\n"
     ]
    },
    {
     "name": "stdout",
     "output_type": "stream",
     "text": [
      " | |X\n",
      "-----\n",
      "X|O| \n",
      "-----\n",
      " | | \n"
     ]
    },
    {
     "name": "stdin",
     "output_type": "stream",
     "text": [
      "Player O, enter row (0-2):  0\n",
      "Player O, enter column (0-2):  0\n"
     ]
    },
    {
     "name": "stdout",
     "output_type": "stream",
     "text": [
      "O| |X\n",
      "-----\n",
      "X|O| \n",
      "-----\n",
      " | | \n"
     ]
    },
    {
     "name": "stdin",
     "output_type": "stream",
     "text": [
      "Player X, enter row (0-2):  2\n",
      "Player X, enter column (0-2):  2\n"
     ]
    },
    {
     "name": "stdout",
     "output_type": "stream",
     "text": [
      "O| |X\n",
      "-----\n",
      "X|O| \n",
      "-----\n",
      " | |X\n"
     ]
    },
    {
     "name": "stdin",
     "output_type": "stream",
     "text": [
      "Player O, enter row (0-2):  2\n",
      "Player O, enter column (0-2):  1\n"
     ]
    },
    {
     "name": "stdout",
     "output_type": "stream",
     "text": [
      "O| |X\n",
      "-----\n",
      "X|O| \n",
      "-----\n",
      " |O|X\n"
     ]
    },
    {
     "name": "stdin",
     "output_type": "stream",
     "text": [
      "Player X, enter row (0-2):  0\n",
      "Player X, enter column (0-2):  1\n"
     ]
    },
    {
     "name": "stdout",
     "output_type": "stream",
     "text": [
      "O|X|X\n",
      "-----\n",
      "X|O| \n",
      "-----\n",
      " |O|X\n"
     ]
    },
    {
     "name": "stdin",
     "output_type": "stream",
     "text": [
      "Player O, enter row (0-2):  1\n",
      "Player O, enter column (0-2):  2\n"
     ]
    },
    {
     "name": "stdout",
     "output_type": "stream",
     "text": [
      "O|X|X\n",
      "-----\n",
      "X|O|O\n",
      "-----\n",
      " |O|X\n"
     ]
    },
    {
     "name": "stdin",
     "output_type": "stream",
     "text": [
      "Player X, enter row (0-2):  2\n",
      "Player X, enter column (0-2):  0\n"
     ]
    },
    {
     "name": "stdout",
     "output_type": "stream",
     "text": [
      "O|X|X\n",
      "-----\n",
      "X|O|O\n",
      "-----\n",
      "X|O|X\n"
     ]
    },
    {
     "ename": "KeyboardInterrupt",
     "evalue": "Interrupted by user",
     "output_type": "error",
     "traceback": [
      "\u001b[0;31m---------------------------------------------------------------------------\u001b[0m",
      "\u001b[0;31mKeyboardInterrupt\u001b[0m                         Traceback (most recent call last)",
      "Cell \u001b[0;32mIn[16], line 35\u001b[0m\n\u001b[1;32m     32\u001b[0m             player_turn \u001b[38;5;241m=\u001b[39m \u001b[38;5;124m\"\u001b[39m\u001b[38;5;124mO\u001b[39m\u001b[38;5;124m\"\u001b[39m \u001b[38;5;28;01mif\u001b[39;00m player_turn \u001b[38;5;241m==\u001b[39m \u001b[38;5;124m\"\u001b[39m\u001b[38;5;124mX\u001b[39m\u001b[38;5;124m\"\u001b[39m \u001b[38;5;28;01melse\u001b[39;00m \u001b[38;5;124m\"\u001b[39m\u001b[38;5;124mX\u001b[39m\u001b[38;5;124m\"\u001b[39m\n\u001b[1;32m     34\u001b[0m \u001b[38;5;28;01mif\u001b[39;00m \u001b[38;5;18m__name__\u001b[39m \u001b[38;5;241m==\u001b[39m \u001b[38;5;124m\"\u001b[39m\u001b[38;5;124m__main__\u001b[39m\u001b[38;5;124m\"\u001b[39m:\n\u001b[0;32m---> 35\u001b[0m     \u001b[43mmain\u001b[49m\u001b[43m(\u001b[49m\u001b[43m)\u001b[49m\n",
      "Cell \u001b[0;32mIn[16], line 29\u001b[0m, in \u001b[0;36mmain\u001b[0;34m()\u001b[0m\n\u001b[1;32m     27\u001b[0m player_turn \u001b[38;5;241m=\u001b[39m \u001b[38;5;124m\"\u001b[39m\u001b[38;5;124mX\u001b[39m\u001b[38;5;124m\"\u001b[39m\n\u001b[1;32m     28\u001b[0m \u001b[38;5;28;01mwhile\u001b[39;00m \u001b[38;5;28;01mTrue\u001b[39;00m: \n\u001b[0;32m---> 29\u001b[0m     row, col \u001b[38;5;241m=\u001b[39m \u001b[43mget_input\u001b[49m\u001b[43m(\u001b[49m\u001b[43mplayer_turn\u001b[49m\u001b[43m)\u001b[49m      \n\u001b[1;32m     30\u001b[0m     \u001b[38;5;28;01mif\u001b[39;00m update_board(board, row, col, player_turn):          \n\u001b[1;32m     31\u001b[0m         print_board(board)           \n",
      "Cell \u001b[0;32mIn[16], line 19\u001b[0m, in \u001b[0;36mget_input\u001b[0;34m(player)\u001b[0m\n\u001b[1;32m     18\u001b[0m \u001b[38;5;28;01mdef\u001b[39;00m \u001b[38;5;21mget_input\u001b[39m(player):\n\u001b[0;32m---> 19\u001b[0m     row \u001b[38;5;241m=\u001b[39m \u001b[38;5;28mint\u001b[39m(\u001b[38;5;28;43minput\u001b[39;49m\u001b[43m(\u001b[49m\u001b[38;5;124;43mf\u001b[39;49m\u001b[38;5;124;43m\"\u001b[39;49m\u001b[38;5;124;43mPlayer \u001b[39;49m\u001b[38;5;132;43;01m{\u001b[39;49;00m\u001b[43mplayer\u001b[49m\u001b[38;5;132;43;01m}\u001b[39;49;00m\u001b[38;5;124;43m, enter row (0-2): \u001b[39;49m\u001b[38;5;124;43m\"\u001b[39;49m\u001b[43m)\u001b[49m)   \n\u001b[1;32m     20\u001b[0m     col \u001b[38;5;241m=\u001b[39m \u001b[38;5;28mint\u001b[39m(\u001b[38;5;28minput\u001b[39m(\u001b[38;5;124mf\u001b[39m\u001b[38;5;124m\"\u001b[39m\u001b[38;5;124mPlayer \u001b[39m\u001b[38;5;132;01m{\u001b[39;00mplayer\u001b[38;5;132;01m}\u001b[39;00m\u001b[38;5;124m, enter column (0-2): \u001b[39m\u001b[38;5;124m\"\u001b[39m))\n\u001b[1;32m     21\u001b[0m     \u001b[38;5;28;01mreturn\u001b[39;00m row, col\n",
      "File \u001b[0;32m/opt/.qbraid/environments/qbraid_000000/pyenv/lib/python3.9/site-packages/ipykernel/kernelbase.py:1191\u001b[0m, in \u001b[0;36mKernel.raw_input\u001b[0;34m(self, prompt)\u001b[0m\n\u001b[1;32m   1189\u001b[0m     msg \u001b[38;5;241m=\u001b[39m \u001b[38;5;124m\"\u001b[39m\u001b[38;5;124mraw_input was called, but this frontend does not support input requests.\u001b[39m\u001b[38;5;124m\"\u001b[39m\n\u001b[1;32m   1190\u001b[0m     \u001b[38;5;28;01mraise\u001b[39;00m StdinNotImplementedError(msg)\n\u001b[0;32m-> 1191\u001b[0m \u001b[38;5;28;01mreturn\u001b[39;00m \u001b[38;5;28;43mself\u001b[39;49m\u001b[38;5;241;43m.\u001b[39;49m\u001b[43m_input_request\u001b[49m\u001b[43m(\u001b[49m\n\u001b[1;32m   1192\u001b[0m \u001b[43m    \u001b[49m\u001b[38;5;28;43mstr\u001b[39;49m\u001b[43m(\u001b[49m\u001b[43mprompt\u001b[49m\u001b[43m)\u001b[49m\u001b[43m,\u001b[49m\n\u001b[1;32m   1193\u001b[0m \u001b[43m    \u001b[49m\u001b[38;5;28;43mself\u001b[39;49m\u001b[38;5;241;43m.\u001b[39;49m\u001b[43m_parent_ident\u001b[49m\u001b[43m[\u001b[49m\u001b[38;5;124;43m\"\u001b[39;49m\u001b[38;5;124;43mshell\u001b[39;49m\u001b[38;5;124;43m\"\u001b[39;49m\u001b[43m]\u001b[49m\u001b[43m,\u001b[49m\n\u001b[1;32m   1194\u001b[0m \u001b[43m    \u001b[49m\u001b[38;5;28;43mself\u001b[39;49m\u001b[38;5;241;43m.\u001b[39;49m\u001b[43mget_parent\u001b[49m\u001b[43m(\u001b[49m\u001b[38;5;124;43m\"\u001b[39;49m\u001b[38;5;124;43mshell\u001b[39;49m\u001b[38;5;124;43m\"\u001b[39;49m\u001b[43m)\u001b[49m\u001b[43m,\u001b[49m\n\u001b[1;32m   1195\u001b[0m \u001b[43m    \u001b[49m\u001b[43mpassword\u001b[49m\u001b[38;5;241;43m=\u001b[39;49m\u001b[38;5;28;43;01mFalse\u001b[39;49;00m\u001b[43m,\u001b[49m\n\u001b[1;32m   1196\u001b[0m \u001b[43m\u001b[49m\u001b[43m)\u001b[49m\n",
      "File \u001b[0;32m/opt/.qbraid/environments/qbraid_000000/pyenv/lib/python3.9/site-packages/ipykernel/kernelbase.py:1234\u001b[0m, in \u001b[0;36mKernel._input_request\u001b[0;34m(self, prompt, ident, parent, password)\u001b[0m\n\u001b[1;32m   1231\u001b[0m \u001b[38;5;28;01mexcept\u001b[39;00m \u001b[38;5;167;01mKeyboardInterrupt\u001b[39;00m:\n\u001b[1;32m   1232\u001b[0m     \u001b[38;5;66;03m# re-raise KeyboardInterrupt, to truncate traceback\u001b[39;00m\n\u001b[1;32m   1233\u001b[0m     msg \u001b[38;5;241m=\u001b[39m \u001b[38;5;124m\"\u001b[39m\u001b[38;5;124mInterrupted by user\u001b[39m\u001b[38;5;124m\"\u001b[39m\n\u001b[0;32m-> 1234\u001b[0m     \u001b[38;5;28;01mraise\u001b[39;00m \u001b[38;5;167;01mKeyboardInterrupt\u001b[39;00m(msg) \u001b[38;5;28;01mfrom\u001b[39;00m \u001b[38;5;28;01mNone\u001b[39;00m\n\u001b[1;32m   1235\u001b[0m \u001b[38;5;28;01mexcept\u001b[39;00m \u001b[38;5;167;01mException\u001b[39;00m:\n\u001b[1;32m   1236\u001b[0m     \u001b[38;5;28mself\u001b[39m\u001b[38;5;241m.\u001b[39mlog\u001b[38;5;241m.\u001b[39mwarning(\u001b[38;5;124m\"\u001b[39m\u001b[38;5;124mInvalid Message:\u001b[39m\u001b[38;5;124m\"\u001b[39m, exc_info\u001b[38;5;241m=\u001b[39m\u001b[38;5;28;01mTrue\u001b[39;00m)\n",
      "\u001b[0;31mKeyboardInterrupt\u001b[0m: Interrupted by user"
     ]
    }
   ],
   "source": [
    "def create_board():\n",
    "    return [[\" \" for _ in range(3)] for _ in range(3)]\n",
    "\n",
    "def print_board(board):\n",
    "    for row in board:\n",
    "        print(\"|\".join(row))\n",
    "        if board.index(row) < 2:        \n",
    "            print(\"-\" * 5)\n",
    "            \n",
    "def update_board(board, row, col, player):\n",
    "    if board[row][col] == \" \":\n",
    "        board[row][col] = player  \n",
    "        return True\n",
    "    else:\n",
    "        print(\"Invalid move. Try again.\")        \n",
    "        return False\n",
    "    \n",
    "def get_input(player):\n",
    "    row = int(input(f\"Player {player}, enter row (0-2): \"))   \n",
    "    col = int(input(f\"Player {player}, enter column (0-2): \"))\n",
    "    return row, col\n",
    "\n",
    "def main():\n",
    "    board = create_board()\n",
    "    print_board(board)\n",
    "    \n",
    "    player_turn = \"X\"\n",
    "    while True: \n",
    "        row, col = get_input(player_turn)      \n",
    "        if update_board(board, row, col, player_turn):          \n",
    "            print_board(board)           \n",
    "            player_turn = \"O\" if player_turn == \"X\" else \"X\"\n",
    "            \n",
    "if __name__ == \"__main__\":\n",
    "    main()"
   ]
  },
  {
   "cell_type": "code",
   "execution_count": 119,
   "id": "57ed6a2e-38b4-4067-86f6-9825686ff1f1",
   "metadata": {},
   "outputs": [
    {
     "ename": "SyntaxError",
     "evalue": "invalid syntax (472336906.py, line 46)",
     "output_type": "error",
     "traceback": [
      "\u001b[0;36m  Cell \u001b[0;32mIn[119], line 46\u001b[0;36m\u001b[0m\n\u001b[0;31m    except update_board(board, row, col, p1_turn, p2_turn):\u001b[0m\n\u001b[0m    ^\u001b[0m\n\u001b[0;31mSyntaxError\u001b[0m\u001b[0;31m:\u001b[0m invalid syntax\n"
     ]
    }
   ],
   "source": [
    "p1= input(\"Enter your name, player 1.\")\n",
    "p2 = input(\"enter your name, player 2.\")\n",
    "\n",
    "def create_board():\n",
    "    return [[\" \" for _ in range(3)] for _ in range(3)]\n",
    "def print_board(board):\n",
    "    for row in board:\n",
    "        print(\"|\".join(row))\n",
    "        if board.index(row) < 2:        \n",
    "            print(\"-\" * 5)\n",
    "            \n",
    "def update_board(board, row, col, p1, p2):\n",
    "    if board[row][col] == \" \":\n",
    "        board[row][col] = p1\n",
    "        return True\n",
    "    elif board[row][col] == \" \":\n",
    "        board[row][col] = p2\n",
    "        return True\n",
    "    else:\n",
    "        print(\"Invalid move. Try again.\")        \n",
    "\n",
    "def get_input(p1):\n",
    "    row = int(input(f\"Player {p1}, enter row (0-2): \"))   \n",
    "    col = int(input(f\"Player {p1}, enter column (0-2): \"))\n",
    "    return row, col\n",
    "\n",
    "def get_input(p2):\n",
    "    row = int(input(f\"Player {p2}, enter row (0-2): \"))   \n",
    "    col = int(input(f\"Player {p2}, enter column (0-2): \"))\n",
    "    return row, col\n",
    "    \n",
    "\n",
    "def main():\n",
    "    board = create_board()\n",
    "    print_board(board)\n",
    "    \n",
    "    p1_turn = \"X\"\n",
    "    p2_turn = \"O\"\n",
    "    while True: \n",
    "        try:\n",
    "            row, col = get_input(p1)     \n",
    "       \n",
    "            if update_board(board, row, col, p1_turn, p2_turn):\n",
    "                print_board(board)   \n",
    "                p2_turn =\"O\" if p1_turn == \"X\" else \"X\" \n",
    "            except update_board(board, row, col, p1_turn, p2_turn):\n",
    "                row, col = get_input(p2) \n",
    "                continue\n",
    "            if update_board(board, row, col, p1_turn, p2_turn):\n",
    "                print_board(board)   \n",
    "                p1_turn =\"X\" if p2_turn == \"O\" else \"O\" \n",
    "main()           \n"
   ]
  },
  {
   "cell_type": "code",
   "execution_count": 72,
   "id": "5fde9f98-8b9c-4b55-9dbe-eeaad0235aa8",
   "metadata": {},
   "outputs": [
    {
     "ename": "AttributeError",
     "evalue": "'QuantumCircuit' object has no attribute 'values'",
     "output_type": "error",
     "traceback": [
      "\u001b[0;31m---------------------------------------------------------------------------\u001b[0m",
      "\u001b[0;31mAttributeError\u001b[0m                            Traceback (most recent call last)",
      "Cell \u001b[0;32mIn[73], line 8\u001b[0m\n\u001b[1;32m      5\u001b[0m circ\u001b[38;5;241m.\u001b[39mcx(\u001b[38;5;241m0\u001b[39m, \u001b[38;5;28mrange\u001b[39m(\u001b[38;5;241m1\u001b[39m, \u001b[38;5;241m9\u001b[39m))\n\u001b[1;32m      6\u001b[0m circ\u001b[38;5;241m.\u001b[39mmeasure_all()\n\u001b[0;32m----> 8\u001b[0m \u001b[43mplot_histogram\u001b[49m\u001b[43m(\u001b[49m\u001b[43mcirc\u001b[49m\u001b[43m)\u001b[49m\n",
      "File \u001b[0;32m/opt/.qbraid/environments/qbraid_000000/pyenv/lib/python3.9/site-packages/qiskit/visualization/counts_visualization.py:135\u001b[0m, in \u001b[0;36mplot_histogram\u001b[0;34m(data, figsize, color, number_to_keep, sort, target_string, legend, bar_labels, title, ax, filename)\u001b[0m\n\u001b[1;32m    132\u001b[0m kind \u001b[38;5;241m=\u001b[39m \u001b[38;5;124m\"\u001b[39m\u001b[38;5;124mcounts\u001b[39m\u001b[38;5;124m\"\u001b[39m\n\u001b[1;32m    133\u001b[0m \u001b[38;5;28;01mfor\u001b[39;00m dat \u001b[38;5;129;01min\u001b[39;00m data:\n\u001b[1;32m    134\u001b[0m     \u001b[38;5;28;01mif\u001b[39;00m \u001b[38;5;28misinstance\u001b[39m(dat, (QuasiDistribution, ProbDistribution)) \u001b[38;5;129;01mor\u001b[39;00m \u001b[38;5;28misinstance\u001b[39m(\n\u001b[0;32m--> 135\u001b[0m         \u001b[38;5;28mnext\u001b[39m(\u001b[38;5;28miter\u001b[39m(\u001b[43mdat\u001b[49m\u001b[38;5;241;43m.\u001b[39;49m\u001b[43mvalues\u001b[49m())), \u001b[38;5;28mfloat\u001b[39m\n\u001b[1;32m    136\u001b[0m     ):\n\u001b[1;32m    137\u001b[0m         warnings\u001b[38;5;241m.\u001b[39mwarn(\n\u001b[1;32m    138\u001b[0m             \u001b[38;5;124m\"\u001b[39m\u001b[38;5;124mUsing plot histogram with QuasiDistribution, ProbDistribution, or a \u001b[39m\u001b[38;5;124m\"\u001b[39m\n\u001b[1;32m    139\u001b[0m             \u001b[38;5;124m\"\u001b[39m\u001b[38;5;124mdistribution dictionary will be deprecated in 0.23.0 and subsequently \u001b[39m\u001b[38;5;124m\"\u001b[39m\n\u001b[0;32m   (...)\u001b[0m\n\u001b[1;32m    142\u001b[0m             stacklevel\u001b[38;5;241m=\u001b[39m\u001b[38;5;241m2\u001b[39m,\n\u001b[1;32m    143\u001b[0m         )\n\u001b[1;32m    144\u001b[0m         kind \u001b[38;5;241m=\u001b[39m \u001b[38;5;124m\"\u001b[39m\u001b[38;5;124mdistribution\u001b[39m\u001b[38;5;124m\"\u001b[39m\n",
      "\u001b[0;31mAttributeError\u001b[0m: 'QuantumCircuit' object has no attribute 'values'"
     ]
    }
   ],
   "source": [
    "from qiskit import QuantumCircuit, execute\n",
    "from qiskit.visualization import plot_histogram\n",
    "circ= QuantumCircuit(9)\n",
    "circ.x(0)\n",
    "circ.cx(0, range(1, 9))\n",
    "circ.measure_all()\n",
    "\n",
    "plot_histogram(circ)"
   ]
  },
  {
   "cell_type": "code",
   "execution_count": null,
   "id": "d43bb12e-617b-463b-94ee-f7e7b151b4a4",
   "metadata": {},
   "outputs": [],
   "source": []
  }
 ],
 "metadata": {
  "kernelspec": {
   "display_name": "Python 3 [Default]",
   "language": "python",
   "name": "python3"
  },
  "language_info": {
   "codemirror_mode": {
    "name": "ipython",
    "version": 3
   },
   "file_extension": ".py",
   "mimetype": "text/x-python",
   "name": "python",
   "nbconvert_exporter": "python",
   "pygments_lexer": "ipython3",
   "version": "3.9.10"
  },
  "toc-autonumbering": false,
  "toc-showcode": true,
  "toc-showmarkdowntxt": true,
  "toc-showtags": false
 },
 "nbformat": 4,
 "nbformat_minor": 5
}
